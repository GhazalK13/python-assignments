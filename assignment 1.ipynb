{
 "cells": [
  {
   "cell_type": "markdown",
   "id": "a27efcc0",
   "metadata": {},
   "source": [
    "1. compute the average of the following list\n",
    "- lst = [15, 9, 20, 41, 35, 20, 62, 42.5]\n"
   ]
  },
  {
   "cell_type": "code",
   "execution_count": 1,
   "id": "eac4d272",
   "metadata": {},
   "outputs": [
    {
     "name": "stdout",
     "output_type": "stream",
     "text": [
      "The average of the given numbers is: 30.525\n"
     ]
    }
   ],
   "source": [
    "mylist=[15,9,20,41,35,20,62,42.2]\n",
    "x=0\n",
    "avg=0\n",
    "n=len(mylist)\n",
    "for i in range(0,n):\n",
    "    x=mylist[i]+x\n",
    "    \n",
    "avg=x/len(mylist)\n",
    "print('The average of the given numbers is:',avg)"
   ]
  },
  {
   "cell_type": "markdown",
   "id": "0c480c27",
   "metadata": {},
   "source": [
    "2. write a program that asks the user for a positive integer between 1 and 7 and also prints the day of week corresponding to that number in all capital letters. For example when the user enters 1, it will print out MONDAY, or if the user enters 3, it will print out WEDNESDAY \n"
   ]
  },
  {
   "cell_type": "code",
   "execution_count": 2,
   "id": "babf91bd",
   "metadata": {},
   "outputs": [
    {
     "name": "stdout",
     "output_type": "stream",
     "text": [
      "Please enter an number between 1 and 7: 5\n",
      "FRIDAY\n"
     ]
    }
   ],
   "source": [
    "num = int(input('Please enter an number between 1 and 7: '))\n",
    "if num == 1:\n",
    "    print('MONDAY')\n",
    "elif num == 2:\n",
    "    print('TUESDAY')\n",
    "elif num == 3:\n",
    "    print('WEDNESDAY')\n",
    "elif num == 4:\n",
    "    print('THURSDAY')\n",
    "elif num == 5:\n",
    "    print('FRIDAY')\n",
    "elif num == 6:\n",
    "    print('SATURDAY')\n",
    "elif num == 7:\n",
    "    print('SUNDAY')\n",
    "else:\n",
    "    print('not valid')"
   ]
  },
  {
   "cell_type": "markdown",
   "id": "45484425",
   "metadata": {},
   "source": [
    "3. Write a program that asks the user to enter an integer number.\n",
    "- If the input number is 12, your program should print \"twelve\"\n",
    "- If the input number is 60, your program should print \"sixty\"\n",
    "- If the input number is 5, your program should print \"five\"\n",
    "- Otherwise the program prints \"other\""
   ]
  },
  {
   "cell_type": "code",
   "execution_count": 4,
   "id": "0fddc8f1",
   "metadata": {},
   "outputs": [
    {
     "name": "stdout",
     "output_type": "stream",
     "text": [
      "Please enter an number: 12\n",
      "twelve\n"
     ]
    }
   ],
   "source": [
    "num = int(input('Please enter an number: '))\n",
    "if num == 12:\n",
    "    print('twelve')\n",
    "elif num == 60:\n",
    "    print('sixty')\n",
    "elif num == 5:\n",
    "    print('five')\n",
    "else:\n",
    "    print('other')"
   ]
  },
  {
   "cell_type": "markdown",
   "id": "12e2a64f",
   "metadata": {},
   "source": [
    "4. Write a program that asks the user to enter their age (for example: 18) and print the output exactly like the following format:\n",
    "    \n",
    "- When the age is less than or equal to 0, print \"UNBORN\"\n",
    "- when the age is more than 0, less or equal than 150, print \"ALIVE\"\n",
    "- when the age is more than 150, print \"Fossile\""
   ]
  },
  {
   "cell_type": "code",
   "execution_count": 5,
   "id": "23c45618",
   "metadata": {},
   "outputs": [
    {
     "name": "stdout",
     "output_type": "stream",
     "text": [
      "please enter the age :50000\n",
      "alive\n"
     ]
    }
   ],
   "source": [
    "age = int(input('please enter the age :'))\n",
    "if age<= 0 :\n",
    "    print('unborn')\n",
    "elif age>0 or age<= 150 :\n",
    "    print('alive')\n",
    "elif age>150 :\n",
    "    print('fossile')\n",
    "    "
   ]
  },
  {
   "cell_type": "markdown",
   "id": "8ded96ff",
   "metadata": {},
   "source": [
    "5. Write a program that asks the user to enter an integer number that represents the total number of hours the user has worked per week. Your program should calculate and print the total amount of money the user earns per week.\n",
    "- If the user enters a number less than 0 or more than 168, your program must print INVALID.\n",
    "- you earn 8 dollars per hour in the first 40 hours.\n",
    "- you earn 9 dollars per hour for working overtime between 41 to 50. \n",
    "- you earn 10 dollars for working overtime more than 50 hours.\n",
    "\n",
    "- Example1: if the user enters 41, the program should print \"YOU MADE 329 DOLLARS THIS WEEK\"\n",
    "- Example2: if the user enters 70, the program should print \"YOU MADE 610  DOLLARS THIS WEEK\"\n"
   ]
  },
  {
   "cell_type": "code",
   "execution_count": 6,
   "id": "c9fb20b6",
   "metadata": {},
   "outputs": [
    {
     "name": "stdout",
     "output_type": "stream",
     "text": [
      "please enter how many hours do you work per week: 55\n",
      "earn=  460\n"
     ]
    }
   ],
   "source": [
    "num =int(input('please enter how many hours do you work per week: '))\n",
    "if num<0 or num>168 :\n",
    "    print('invalid')\n",
    "if  0<= num <=40 : \n",
    "    x=8*num\n",
    "    print('earn= ',x)\n",
    "if 40<num<=50 :\n",
    "    y=(40*8)+((num-40)*9)\n",
    "    print('earn= ',y)\n",
    "if num>50 :\n",
    "    z=(40*8)+(10*9)+((num-50)*10)\n",
    "    print('earn= ',z)\n"
   ]
  },
  {
   "cell_type": "markdown",
   "id": "bf19809f",
   "metadata": {},
   "source": [
    "6. write a program that convert a given integer to days, hours, minutes and seconds\n",
    "- Example: input: 369121517 output: 1 days 12 hours 0 minutes 0 seconds"
   ]
  },
  {
   "cell_type": "code",
   "execution_count": 7,
   "id": "99ba2e46",
   "metadata": {},
   "outputs": [
    {
     "name": "stdout",
     "output_type": "stream",
     "text": [
      "Please enter an integer positive number: 546\n",
      "0 Days, 0 Hours, 9 Minutes, 5 Secondes\n"
     ]
    }
   ],
   "source": [
    "num = int(input('Please enter an integer positive number: '))\n",
    "x = num/86400\n",
    "D = int(x)\n",
    "H = int((x-int(x))*24)\n",
    "M = int((((x-int(x))*24)-H)*60)\n",
    "S = int((((((x-int(x))*24)-H)*60)-M)*60)\n",
    "\n",
    "print(D,'Days,',H,'Hours,',M,'Minutes,',S,'Secondes')"
   ]
  },
  {
   "cell_type": "markdown",
   "id": "57e8fb22",
   "metadata": {},
   "source": [
    "7. write a program that computes the factorial of an integer number  #(with While Loop)\n",
    "- Example: input:5 , output:120"
   ]
  },
  {
   "cell_type": "code",
   "execution_count": 8,
   "id": "c7b32345",
   "metadata": {},
   "outputs": [
    {
     "name": "stdout",
     "output_type": "stream",
     "text": [
      "please enter a positive number3\n",
      "the factorial is=  6\n"
     ]
    }
   ],
   "source": [
    "num =int(input('please enter a positive number'))\n",
    "fact=1\n",
    "while(num>0):\n",
    "    fact=num*fact\n",
    "    num=num-1\n",
    "print('the factorial is= ', fact)\n"
   ]
  },
  {
   "cell_type": "markdown",
   "id": "f7ae1b49",
   "metadata": {},
   "source": [
    "8. Write a program that uses the while loop to print the sum of all the numbers between 1 and 1200 that their remainder by 3 is one."
   ]
  },
  {
   "cell_type": "code",
   "execution_count": 9,
   "id": "7c6cfc2c",
   "metadata": {},
   "outputs": [
    {
     "name": "stdout",
     "output_type": "stream",
     "text": [
      "the sum of numbers that 3%==1 is=  239800\n"
     ]
    }
   ],
   "source": [
    "i=1\n",
    "sum=0\n",
    "\n",
    "while(i<1201):\n",
    "    if i%3==1:\n",
    "        sum =sum+i\n",
    "        i = i+1\n",
    "    else:\n",
    "        i=i+1\n",
    "print('the sum of numbers that 3%==1 is= ',sum)"
   ]
  },
  {
   "cell_type": "markdown",
   "id": "440357ed",
   "metadata": {},
   "source": [
    "9. Write a program which repeatedly reads numbers until the user enters\n",
    "“done”. Once “done” is entered, print out the total, count, and average of the\n",
    "numbers. "
   ]
  },
  {
   "cell_type": "code",
   "execution_count": 10,
   "id": "41e2b9e3",
   "metadata": {},
   "outputs": [
    {
     "name": "stdout",
     "output_type": "stream",
     "text": [
      "Please enter your number:1371\n",
      "Please enter your number:30\n",
      "Please enter your number:8\n",
      "Please enter your number:done\n",
      "count=  3 \n",
      "Total=  1409 \n",
      "Average=  469.6666666666667\n"
     ]
    }
   ],
   "source": [
    "countt=0\n",
    "summ=0\n",
    "avgg=0\n",
    "\n",
    "while(1%3==1):\n",
    "    \n",
    "    numm = input('Please enter your number:')\n",
    "    if 'done' in numm:\n",
    "        print('count= ',countt,'\\nTotal= ',summ,'\\nAverage= ' ,avgg)\n",
    "        break\n",
    "    \n",
    "    else:\n",
    "        \n",
    "        countt = 1+countt\n",
    "        summ = int(numm)+summ\n",
    "        avgg = summ/countt\n",
    "            "
   ]
  }
 ],
 "metadata": {
  "kernelspec": {
   "display_name": "Python 3",
   "language": "python",
   "name": "python3"
  },
  "language_info": {
   "codemirror_mode": {
    "name": "ipython",
    "version": 3
   },
   "file_extension": ".py",
   "mimetype": "text/x-python",
   "name": "python",
   "nbconvert_exporter": "python",
   "pygments_lexer": "ipython3",
   "version": "3.6.13"
  }
 },
 "nbformat": 4,
 "nbformat_minor": 5
}
