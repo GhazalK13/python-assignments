{
 "cells": [
  {
   "cell_type": "markdown",
   "id": "d4cc829c",
   "metadata": {},
   "source": [
    "1) Write a function that takes a string containing the alphabetic characters as the input argument and returns True if it is a Palindrome string. A Palindrome is a string whose letters are the same from beginning to end and vice versa. Note that uppercase and lowercase letters do not matter here, for example: a lowercase character can be thought of as a uppercase character.<br>\n",
    "For Example : madam"
   ]
  },
  {
   "cell_type": "code",
   "execution_count": 76,
   "id": "4b129f5f",
   "metadata": {},
   "outputs": [],
   "source": [
    "def palindrome(x1):\n",
    "    \n",
    "    x1=x1.lower()\n",
    "    x2=''\n",
    "    \n",
    "    Palindrome = False\n",
    "    lengthx1 = len(x1)\n",
    "        \n",
    "    for i in range(lengthx1-1,-1,-1):\n",
    "        x2=x2+x1[i]\n",
    "    \n",
    "    if x1 == x2:\n",
    "        Palindrome = True\n",
    "\n",
    "    print(Palindrome)"
   ]
  },
  {
   "cell_type": "code",
   "execution_count": 77,
   "id": "cee0e520",
   "metadata": {},
   "outputs": [
    {
     "name": "stdout",
     "output_type": "stream",
     "text": [
      "True\n"
     ]
    }
   ],
   "source": [
    "palindrome('radar')"
   ]
  },
  {
   "cell_type": "code",
   "execution_count": 78,
   "id": "722e675f",
   "metadata": {},
   "outputs": [
    {
     "name": "stdout",
     "output_type": "stream",
     "text": [
      "False\n"
     ]
    }
   ],
   "source": [
    "palindrome('okey')"
   ]
  },
  {
   "cell_type": "markdown",
   "id": "8b3074c7",
   "metadata": {},
   "source": [
    "2) Write a function that returns the total number of vowels in an input string that contain alphabetic characters. Note that uppercase and lowercase letters do not matter here. For this problem, vowels A, E, I, O, U are considered."
   ]
  },
  {
   "cell_type": "code",
   "execution_count": 79,
   "id": "cc67a930",
   "metadata": {},
   "outputs": [],
   "source": [
    "def vowels(String):\n",
    "    c=0\n",
    "    \n",
    "    String=String.upper()\n",
    "    \n",
    "    for i in String:\n",
    "        if i == 'A' or i == 'E' or i == 'I' or i == 'O' or i == 'U':\n",
    "            \n",
    "            c+=1\n",
    "            \n",
    "    print('The total number of vowels:',c)"
   ]
  },
  {
   "cell_type": "code",
   "execution_count": 80,
   "id": "92d2765d",
   "metadata": {},
   "outputs": [
    {
     "name": "stdout",
     "output_type": "stream",
     "text": [
      "The total number of vowels: 3\n"
     ]
    }
   ],
   "source": [
    "vowels('Happy Birthday')"
   ]
  },
  {
   "cell_type": "markdown",
   "id": "848b34ae",
   "metadata": {},
   "source": [
    "3) Write a function that takes a string and a character as input and returns the number of times the character is repeated in the string. Note that uppercase and lowercase letters do not matter here"
   ]
  },
  {
   "cell_type": "code",
   "execution_count": 81,
   "id": "5c1ea8d6",
   "metadata": {},
   "outputs": [],
   "source": [
    "def Character(ST,CH):\n",
    "    \n",
    "    c=0\n",
    "    CH=CH.lower()\n",
    "    ST=ST.lower()\n",
    "    \n",
    "    \n",
    "    for i in ST:\n",
    "        if i == CH:\n",
    "            c+=1\n",
    "\n",
    "    print('Character',CH,'is repeated in this string',c,'time/times')"
   ]
  },
  {
   "cell_type": "code",
   "execution_count": 82,
   "id": "74fb6734",
   "metadata": {},
   "outputs": [
    {
     "name": "stdout",
     "output_type": "stream",
     "text": [
      "Character r is repeated in this string 2 time/times\n"
     ]
    }
   ],
   "source": [
    "Character('Happy Birthday, Good Work','r')"
   ]
  },
  {
   "cell_type": "markdown",
   "id": "44469680",
   "metadata": {},
   "source": [
    "4) Write a function that takes a string and a character as input and returns the total number of words in the string that start with a given character.\n",
    "<br>For Example:<br>\n",
    "String = \"Ali is a doctor who works in the american hospital\"<br>\n",
    "character = a<br>\n",
    "output = 3  # ali, a, american"
   ]
  },
  {
   "cell_type": "code",
   "execution_count": 83,
   "id": "905de2b8",
   "metadata": {},
   "outputs": [],
   "source": [
    "def words(ST,CH):\n",
    "    c=0\n",
    "    w=''\n",
    "    CH = CH.lower()\n",
    "    ST = ST.lower()\n",
    "    ST = ST.split()\n",
    "  \n",
    "\n",
    "    for i in ST:\n",
    "        if i[0] == CH:\n",
    "            c += 1\n",
    "            w = w + i + ','\n",
    "            \n",
    "    print('The words are: ',w)"
   ]
  },
  {
   "cell_type": "code",
   "execution_count": 84,
   "id": "92650037",
   "metadata": {},
   "outputs": [
    {
     "name": "stdout",
     "output_type": "stream",
     "text": [
      "The words are:  ali,a,american,\n"
     ]
    }
   ],
   "source": [
    "ST1 = \"Ali is a doctor who works in the american hospital\"\n",
    "C1 = 'a'\n",
    "\n",
    "words(ST1,C1)"
   ]
  },
  {
   "cell_type": "markdown",
   "id": "54d8c0b0",
   "metadata": {},
   "source": [
    "5) Write a function that takes a string containing alphabetic characters as the input argument and returns the most frequent character. Ignore whitespace i.e. do not count any whitespace as a character. Note that one lowercase character equals one uppercase character. "
   ]
  },
  {
   "cell_type": "code",
   "execution_count": 85,
   "id": "9fcbabeb",
   "metadata": {},
   "outputs": [],
   "source": [
    "def counting_char(ST):\n",
    "    \n",
    "    c=0\n",
    "    ST=ST.replace(' ','')\n",
    "    ST=ST.lower()\n",
    "    M_R=''\n",
    "    \n",
    "    for i in ST:\n",
    "        B = ST.count(i)\n",
    "        \n",
    "        if B==c:\n",
    "            c = B\n",
    "            if i not in M_R:\n",
    "                M_R = i\n",
    "        \n",
    "        if B>c:\n",
    "            c = B\n",
    "            M_R = i\n",
    "    \n",
    "    print(M_R,',', c,'times')"
   ]
  },
  {
   "cell_type": "code",
   "execution_count": 86,
   "id": "10823495",
   "metadata": {},
   "outputs": [
    {
     "name": "stdout",
     "output_type": "stream",
     "text": [
      "i , 7 times\n"
     ]
    }
   ],
   "source": [
    "ST2='I am a Biomedical Engineering Student at Pasargad Univrsity'\n",
    "\n",
    "counting_char(ST2)"
   ]
  },
  {
   "cell_type": "markdown",
   "id": "ca2915d7",
   "metadata": {},
   "source": [
    "6) Write a function that receives an input string and reverses the input string. Keep in mind that inversion must be done for each character individually. \n",
    "<br>For Example:<br>\n",
    "input string is = \"Hello Wolrd. I Am Learning Python\"<br>\n",
    "output= 'NOHTYp GNINRAEl Ma i .DRLOw OLLEh'<br>"
   ]
  },
  {
   "cell_type": "code",
   "execution_count": 87,
   "id": "c686d93e",
   "metadata": {},
   "outputs": [],
   "source": [
    "def reverse_string(ST):\n",
    "    A=''\n",
    "    for i in range(len(ST)-1,-1,-1):\n",
    "        A = A + ST[i]\n",
    "    return A"
   ]
  },
  {
   "cell_type": "code",
   "execution_count": 88,
   "id": "8b397a71",
   "metadata": {},
   "outputs": [
    {
     "data": {
      "text/plain": [
       "'nohtyP gninraeL mA I .drloW olleH'"
      ]
     },
     "execution_count": 88,
     "metadata": {},
     "output_type": "execute_result"
    }
   ],
   "source": [
    "ST = \"Hello Wolrd. I Am Learning Python\"\n",
    "reverse_string(ST)"
   ]
  },
  {
   "cell_type": "markdown",
   "id": "f8f53d6e",
   "metadata": {},
   "source": [
    "7) Write a function that receives a string of words containing alphabetic characters separated by spaces and returns a string in which each word is inverted from the input string while maintaining the order of the words in the input string. The length of the input string must be equal to the length of the output string. For example: there should be no extra sequences or more space in your output string.\n",
    "<br>For Example :<br>\n",
    "Input string = \"I am learning Python\"<br>\n",
    "Output = 'I ma gninrael nohtyP'<br>\n"
   ]
  },
  {
   "cell_type": "code",
   "execution_count": 98,
   "id": "a378ed4b",
   "metadata": {},
   "outputs": [],
   "source": [
    "def reverse_string(ST):\n",
    "    A=''\n",
    "    ST = ST.split()\n",
    "   \n",
    "    for word in ST:\n",
    "        for i in range(len(word)-1,-1,-1):\n",
    "            A = A+word[i]\n",
    "        A = A+' '\n",
    "    return A.strip()"
   ]
  },
  {
   "cell_type": "code",
   "execution_count": 99,
   "id": "0336d3a9",
   "metadata": {},
   "outputs": [
    {
     "data": {
      "text/plain": [
       "'I ma gninrael nohtyP'"
      ]
     },
     "execution_count": 99,
     "metadata": {},
     "output_type": "execute_result"
    }
   ],
   "source": [
    "ST3 = \"I am learning Python\"\n",
    "reverse_string(ST3)"
   ]
  },
  {
   "cell_type": "markdown",
   "id": "e9cc62a3",
   "metadata": {},
   "source": [
    "8) Write a function that accepts an input string and removes all the leading whitespace of the string and\n",
    "returns it without using .strip().\n"
   ]
  },
  {
   "cell_type": "code",
   "execution_count": 100,
   "id": "0328a054",
   "metadata": {},
   "outputs": [],
   "source": [
    "def strip(ST):\n",
    "    A=''\n",
    "    for i in range(len(ST)):\n",
    "        if ST[i] != ' ':\n",
    "            A = A + ST[i]\n",
    "    return A"
   ]
  },
  {
   "cell_type": "code",
   "execution_count": 101,
   "id": "42668622",
   "metadata": {},
   "outputs": [
    {
     "data": {
      "text/plain": [
       "'Matlab'"
      ]
     },
     "execution_count": 101,
     "metadata": {},
     "output_type": "execute_result"
    }
   ],
   "source": [
    "ST4 = \"                               Matlab      \"\n",
    "strip(ST4)"
   ]
  },
  {
   "cell_type": "markdown",
   "id": "784ae20b",
   "metadata": {},
   "source": [
    "9) Write a function that takes two strings as input arguments and returns the following values:\n",
    "• Return zero if the two strings exactly match.\n",
    "• If two strings are the same length and do not match in only one character, return 1.\n",
    "• If two strings are not the same length or do not match in two or more characters, return 2.\n",
    "Uppercase letters are considered as lowercase letters. Here are some examples:\n",
    "\n",
    "|String1 | String2 |output|\n",
    "| --- | --- | --- |\n",
    "|Python | Julia| 2|\n",
    "|Hello World\t|   hellooWorld  |    1|\n",
    "|door | dor | 2 |\n",
    "|Lion | lion | 0|"
   ]
  },
  {
   "cell_type": "code",
   "execution_count": 102,
   "id": "15851ac9",
   "metadata": {},
   "outputs": [],
   "source": [
    "def similar(ST1,ST2):\n",
    "    \n",
    "    ST1 = ST1.lower()\n",
    "    ST2 = ST2.lower()\n",
    "#1    \n",
    "    if ST1 == ST2:\n",
    "        return 0\n",
    "#2\n",
    "\n",
    "    elif len(ST1) == len(ST2):\n",
    "        A=0\n",
    "               \n",
    "        for i in range(len(ST1)):\n",
    "            if ST1[i] != ST2[i]:\n",
    "                A+=1\n",
    "                    \n",
    "        if A == 1:\n",
    "            return 1\n",
    "        else:\n",
    "            return 2\n",
    "        \n",
    "#3\n",
    "    elif len(ST1) != len(ST2):\n",
    "        return 2"
   ]
  },
  {
   "cell_type": "code",
   "execution_count": 103,
   "id": "06852fe5",
   "metadata": {},
   "outputs": [
    {
     "data": {
      "text/plain": [
       "0"
      ]
     },
     "execution_count": 103,
     "metadata": {},
     "output_type": "execute_result"
    }
   ],
   "source": [
    "ST5_1='katy perry'\n",
    "ST5_2='KATY PERRY'\n",
    "\n",
    "similar(ST5_1,ST5_2)"
   ]
  },
  {
   "cell_type": "code",
   "execution_count": 104,
   "id": "0a809742",
   "metadata": {},
   "outputs": [
    {
     "data": {
      "text/plain": [
       "2"
      ]
     },
     "execution_count": 104,
     "metadata": {},
     "output_type": "execute_result"
    }
   ],
   "source": [
    "ST5_1='Julia'\n",
    "ST5_2='Python'\n",
    "\n",
    "similar(ST5_1,ST5_2)"
   ]
  },
  {
   "cell_type": "code",
   "execution_count": 105,
   "id": "8a5a33c9",
   "metadata": {},
   "outputs": [
    {
     "data": {
      "text/plain": [
       "1"
      ]
     },
     "execution_count": 105,
     "metadata": {},
     "output_type": "execute_result"
    }
   ],
   "source": [
    "ST5_1 = 'Hello World'\n",
    "ST5_2 = 'hellooWorld'\n",
    "\n",
    "similar(ST5_1,ST5_2)"
   ]
  },
  {
   "cell_type": "markdown",
   "id": "578092e8",
   "metadata": {},
   "source": [
    "10) Write a function that takes two strings as parameters, and returns True if the two strings have the same family, otherwise returns False. Two strings are family if one string can be created exactly by rearranging the characters in the other string. For example, the \"Orchestra\" and \"Carthorse\" strings are family because each can be created exactly by rearranging the characters in the other. Note that capitalization is not important here."
   ]
  },
  {
   "cell_type": "code",
   "execution_count": 106,
   "id": "79bcb41e",
   "metadata": {},
   "outputs": [],
   "source": [
    "def fam(ST1,ST2):\n",
    "    \n",
    "    ST1 = ST1.lower()\n",
    "    ST2 = ST2.lower()\n",
    "    new_str=''\n",
    "   \n",
    "    F = False\n",
    "    \n",
    "    if len(ST1) == len(ST2):\n",
    "        for x in ST1:\n",
    "            for z in ST2:\n",
    "                if x==z:\n",
    "                    if ST1.count(x)==ST2.count(z):\n",
    "                        ST1=ST1.replace(x,'')\n",
    "                                           \n",
    "    if ST1=='':\n",
    "        F=True\n",
    "                \n",
    "    return F"
   ]
  },
  {
   "cell_type": "code",
   "execution_count": 107,
   "id": "c811f9d8",
   "metadata": {},
   "outputs": [
    {
     "data": {
      "text/plain": [
       "(True, '')"
      ]
     },
     "execution_count": 107,
     "metadata": {},
     "output_type": "execute_result"
    }
   ],
   "source": [
    "ST6_11 = 'Pythonp'\n",
    "ST6_22 = 'Nohtypp'\n",
    "\n",
    "\n",
    "fam(ST6_11,ST6_22)"
   ]
  },
  {
   "cell_type": "code",
   "execution_count": 108,
   "id": "aa807b08",
   "metadata": {},
   "outputs": [
    {
     "data": {
      "text/plain": [
       "(False, 'all')"
      ]
     },
     "execution_count": 108,
     "metadata": {},
     "output_type": "execute_result"
    }
   ],
   "source": [
    "ST6_111 = 'Ghazll'\n",
    "ST6_222 = 'Ghazal'\n",
    "\n",
    "fam(ST6_111,ST6_222)"
   ]
  }
 ],
 "metadata": {
  "kernelspec": {
   "display_name": "GK7",
   "language": "python",
   "name": "gk7"
  },
  "language_info": {
   "codemirror_mode": {
    "name": "ipython",
    "version": 3
   },
   "file_extension": ".py",
   "mimetype": "text/x-python",
   "name": "python",
   "nbconvert_exporter": "python",
   "pygments_lexer": "ipython3",
   "version": "3.6.13"
  }
 },
 "nbformat": 4,
 "nbformat_minor": 5
}
