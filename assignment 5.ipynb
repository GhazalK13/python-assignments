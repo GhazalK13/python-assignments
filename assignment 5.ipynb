{
 "cells": [
  {
   "cell_type": "markdown",
   "id": "c316a6cd",
   "metadata": {},
   "source": [
    "1) Write a function that takes a two-dimensional list and then returns the mean"
   ]
  },
  {
   "cell_type": "code",
   "execution_count": null,
   "id": "eb168a94",
   "metadata": {},
   "outputs": [],
   "source": []
  },
  {
   "cell_type": "markdown",
   "id": "80b01b34",
   "metadata": {},
   "source": [
    "2) Write a function that takes a two-dimensional list and returns the list containing the sum of each row. You can assume that the number of columns in each row is the same."
   ]
  },
  {
   "cell_type": "code",
   "execution_count": null,
   "id": "d621d8fa",
   "metadata": {},
   "outputs": [],
   "source": []
  },
  {
   "cell_type": "markdown",
   "id": "bca3e88a",
   "metadata": {},
   "source": [
    "3) Write a function that takes a two-dimensional list. The function must return the number of rows in the list that have an even sum and the number of rows that have an odd sum. For example, if the input is:<br>\n",
    "\n",
    "[[3,8],&emsp; first row = 3 + 8 = 11 &emsp; 11 is an odd number\n",
    "<br>[2,5]]&emsp; second row = 2 + 5 = 7 &emsp;  7 is an odd number\n",
    "<br>The output is: [0. 2]\n"
   ]
  },
  {
   "cell_type": "code",
   "execution_count": null,
   "id": "35fda5e4",
   "metadata": {},
   "outputs": [],
   "source": []
  },
  {
   "cell_type": "markdown",
   "id": "dcdcf7b1",
   "metadata": {},
   "source": [
    "4) Write a function that takes a two-dimensional list and returns a list containing the maximum value of each column."
   ]
  },
  {
   "cell_type": "code",
   "execution_count": null,
   "id": "aafee05c",
   "metadata": {},
   "outputs": [],
   "source": []
  },
  {
   "cell_type": "markdown",
   "id": "39ff4ab8",
   "metadata": {},
   "source": [
    "5) Write a function that takes two two-dimensional lists (matrices) a and b containing unknown lengths and, if they can be multiplied together, returns their product, otherwise returns \"These matrices cannot be multiplied\". Note: The two matrices a and b can only be multiplied if the number of columns in the first matrix (a) is equal to the number of rows in the second matrix (b)."
   ]
  },
  {
   "cell_type": "code",
   "execution_count": null,
   "id": "f06d267f",
   "metadata": {},
   "outputs": [],
   "source": []
  },
  {
   "cell_type": "markdown",
   "id": "1a2c334a",
   "metadata": {},
   "source": [
    "6) Write a function that takes a dictionary contains students' name and grades (keys are student names and values are a list of grades for 3 exams (one-dimensional list)) as input and returns a list of student's name who have score higher or equal to 78 in all three tests."
   ]
  },
  {
   "cell_type": "code",
   "execution_count": null,
   "id": "ab8b5ef6",
   "metadata": {},
   "outputs": [],
   "source": []
  },
  {
   "cell_type": "markdown",
   "id": "2148b968",
   "metadata": {},
   "source": [
    "7) Write a function that takes a string as input and returns a dictionary of the number of letters. For example, the keys in this dictionary must be unique letters and the values must be the total number of letters. You should ignore  whitespaces and they should not be counted as one character. Also note that one lowercase character equals uppercase character.\n",
    "\n",
    "<br>For example if the input is: \"Hello World, I am learning python\"\n",
    "<br>The output should be: \n",
    "{'h': 2,\n",
    " 'e': 2,\n",
    " 'l': 4,\n",
    " 'o': 3,\n",
    " 'w': 1,\n",
    " 'r': 2,\n",
    " 'd': 1,\n",
    " ',': 1,\n",
    " 'i': 2,\n",
    " 'a': 2,\n",
    " 'm': 1,\n",
    " 'n': 3,\n",
    " 'g': 1,\n",
    " 'p': 1,\n",
    " 'y': 1,\n",
    " 't': 1}"
   ]
  },
  {
   "cell_type": "code",
   "execution_count": null,
   "id": "6a65861d",
   "metadata": {},
   "outputs": [],
   "source": []
  },
  {
   "cell_type": "markdown",
   "id": "41ff753e",
   "metadata": {},
   "source": [
    "8) Write a function that takes a string of words as input and returns a dictionary of word counts. The keys in this dictionary must be unique words and the values must be the total number of words. Assume that the characters are not case sensitive. <br>For example, if the input string is as follows:\n",
    "\"Always have a ambition in life a life without purpose is meaningless\"\n",
    "<br> the output should be:\n",
    "{'always': 1,\n",
    " 'have': 1,\n",
    " 'a': 2,\n",
    " 'ambition': 1,\n",
    " 'in': 1,\n",
    " 'life': 2,\n",
    " 'without': 1,\n",
    " 'purpose': 1,\n",
    " 'is': 1,\n",
    " 'meaningless': 1}\n"
   ]
  },
  {
   "cell_type": "code",
   "execution_count": null,
   "id": "debcf946",
   "metadata": {},
   "outputs": [],
   "source": []
  },
  {
   "cell_type": "markdown",
   "id": "c3be174c",
   "metadata": {},
   "source": [
    "9) Write a function that takes an integer as input and returns words using those numbers. For example, if the integer is 5823, then this function must return the string \"five eight two three\". Note that there should be only one space between words and all letters in the string you return should be lowercase."
   ]
  },
  {
   "cell_type": "code",
   "execution_count": null,
   "id": "9b404aec",
   "metadata": {},
   "outputs": [],
   "source": []
  },
  {
   "cell_type": "markdown",
   "id": "fa0e6b90",
   "metadata": {},
   "source": [
    "10) Write a function that takes a 4-digit integer (between 1000 and 9999) as an input  and returns the words using the integer, as shown below:\n",
    "<br> if the input integer is 5230 then the function should return the string \"five thousand two hundred thirty\"  "
   ]
  },
  {
   "cell_type": "code",
   "execution_count": null,
   "id": "1738b1bc",
   "metadata": {},
   "outputs": [],
   "source": []
  }
 ],
 "metadata": {
  "kernelspec": {
   "display_name": "Python 3.8 (tensorflow)",
   "language": "python",
   "name": "tensorflow"
  },
  "language_info": {
   "codemirror_mode": {
    "name": "ipython",
    "version": 3
   },
   "file_extension": ".py",
   "mimetype": "text/x-python",
   "name": "python",
   "nbconvert_exporter": "python",
   "pygments_lexer": "ipython3",
   "version": "3.8.10"
  }
 },
 "nbformat": 4,
 "nbformat_minor": 5
}
