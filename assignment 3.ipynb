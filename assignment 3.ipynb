{
 "cells": [
  {
   "cell_type": "markdown",
   "id": "c8fe4f18",
   "metadata": {},
   "source": [
    "1) Write a function that normalizes a vector (finds the unit vector). A vector can be normalized by dividing each unique component of the vector by its size. Your input for this function will be a List(vector). For example if your input is: <br>\n",
    "vector = [3, 6, 9] <br>\n",
    "output:\n",
    "[0.2672612419124244, 0.5345224838248488, 0.8017837257372732]\n"
   ]
  },
  {
   "cell_type": "code",
   "execution_count": 1,
   "id": "c345915f",
   "metadata": {},
   "outputs": [],
   "source": [
    "def normaliz(A):\n",
    "    V = []\n",
    "    sum1 = 0\n",
    "    \n",
    "    for i in A:\n",
    "        sum1= i**2 +sum1\n",
    "    N = sum1**(1/2)\n",
    "    for i in A:\n",
    "        V.append(i/N)\n",
    "        \n",
    "    return V "
   ]
  },
  {
   "cell_type": "code",
   "execution_count": 2,
   "id": "dfdf174a",
   "metadata": {},
   "outputs": [
    {
     "data": {
      "text/plain": [
       "[0.2672612419124244, 0.5345224838248488, 0.8017837257372732]"
      ]
     },
     "execution_count": 2,
     "metadata": {},
     "output_type": "execute_result"
    }
   ],
   "source": [
    "A= [3,6,9]\n",
    "normaliz(A)"
   ]
  },
  {
   "cell_type": "markdown",
   "id": "c693bca2",
   "metadata": {},
   "source": [
    "2) Write a function that calculates and returns the monthly payments for a loan. This function accepts three parameters in the exact order (principal, annual_interest_rate, duration): \n",
    "\n",
    "+ principal: The total amount of loan. Assume that the principal is a positive floating point number.\n",
    "\n",
    "+ annual_interest_rate: This is the percent interest rate per year. Assume that annual_interest_rate is a floating point number.\n",
    "(Notice that 4.5 means that the interest rate is 4.5 percent per year.)\n",
    "\n",
    "+ duration: number of years to pay the loan back. Assume that duration is a positive integer.\n",
    "\n",
    "To calculate the amount of monthly payment for the loan you should use the following equation\n",
    "\n",
    "    MonthlyPayment = Principal∗r(1+r)**n/((1+r)**n−1)\n",
    "\n",
    "Where:\n",
    "\n",
    "r is the monthly interest rate (shold be calculated by first dividing the annual_interest_rate by 100 and then divide the result by 12 to make it monthly).\n",
    "\n",
    "Notice that if the interest rate is equal to zero then the above equation will give you a ZeroDivisionError. In that case you should use the follwing equation:\n",
    "\n",
    "    MonthlyPayment = Principal/n\n",
    "\n",
    "n is the total number of monthly payments for the entire duration of the loan (Notice that n is equal to loan duration in years multiplied by 12).\n",
    "\n",
    "Your function should return the monthly payment as a floating point number.\n",
    "\n",
    "For Example if you enter : (1000.0, 4.5, 5) <br>\n",
    "The ouput would be : 18.643019241516996\n"
   ]
  },
  {
   "cell_type": "code",
   "execution_count": 3,
   "id": "934a6e95",
   "metadata": {},
   "outputs": [],
   "source": [
    "def Monthly_Payment(P,AIR,D):\n",
    "    \n",
    "    k = D*12\n",
    "    \n",
    "    if AIR == 0:\n",
    "        \n",
    "        MonthlyPayment = P/k\n",
    "        \n",
    "    else:\n",
    "        \n",
    "        s = (AIR/100)/12\n",
    "        MonthlyPayment = P*s*(1+s)**k/((1+s)**k-1)\n",
    "    \n",
    "    return MonthlyPayment "
   ]
  },
  {
   "cell_type": "code",
   "execution_count": 4,
   "id": "d7c9959b",
   "metadata": {},
   "outputs": [
    {
     "name": "stdout",
     "output_type": "stream",
     "text": [
      "enter principal: 1000.0\n",
      "enter annual interest rate: 4.5\n",
      "enter duraion in years: 5\n"
     ]
    },
    {
     "data": {
      "text/plain": [
       "18.643019241516996"
      ]
     },
     "execution_count": 4,
     "metadata": {},
     "output_type": "execute_result"
    }
   ],
   "source": [
    "P= float(input('enter principal: '))\n",
    "AIR = float(input('enter annual interest rate: '))\n",
    "D = int(input('enter duraion in years: '))\n",
    "\n",
    "\n",
    "\n",
    "Monthly_Payment(P,AIR,D)"
   ]
  },
  {
   "cell_type": "markdown",
   "id": "461b347f",
   "metadata": {},
   "source": [
    "3) Write a function that calculates and returns the remaining loan balance.\n",
    "\n",
    "This function accepts four parameters in the exact order shown below:\n",
    "(principal, annual_interest_rate, duration , number_of_payments)\n",
    "\n",
    "principal: The total amount of loan. Assume that the principal is positive floating point number.\n",
    "    \n",
    "annual_interest_rate: This is the percent interest rate per year. Assume that annual_interest_rate is a floating point number. (Notice that 4.5 means that the interest rate is 4.5 percent per year.)\n",
    "duration: number of years to pay the loan back. Assume that duration is a positive integer.\n",
    "    \n",
    "number_of_payments: number of monthly payments that are already paid. Assume that number_of_payments is an integer.\n",
    "To calculate the reamining loan balance use the following equation\n",
    "\n",
    "    RemainingLoanBalance = Principal∗((1+r)**n−(1+r)**p)/((1+r)**n−1)\n",
    "\n",
    "Where:\n",
    "    \n",
    "r is the monthly interest rate. r should be calculated by first dividing the annual_interest_rate by 100 and then divide the result by 12 to make it\n",
    "monthly. Notice that if the interest rate is equal to zero then the above equation will give you a ZeroDivisionError. In that case you should use\n",
    "the follwing equation: \n",
    "    \n",
    "    RemainingLoanBalance=Principal*(1−p/n)\n",
    "    \n",
    "n is the total number of monthly payments for the entire duration of the loan. Notice that n is equal to loan duration in years multiplied by 12.\n",
    "\n",
    "p is the number of payments which are already made.\n",
    "\n",
    "Your function should return the remaining balance as a floating point number.\n",
    "\n",
    "For Example if someone enters:<br>\n",
    "\n",
    "Please enter principal: 2000<br>\n",
    "Please enter annual interest rate: 5<br>\n",
    "Please enter duraion in years: 5<br>\n",
    "Please enter the number of payments: 12<br>\n",
    "\n",
    "The output should be:<br>\n",
    "\n",
    "1638.8894940368032"
   ]
  },
  {
   "cell_type": "code",
   "execution_count": 5,
   "id": "7f4ac4a1",
   "metadata": {},
   "outputs": [],
   "source": [
    "def RemainingLoanBalance(P,AIR,D,number_of_payments):\n",
    "\n",
    "    \n",
    "    G = number_of_payments\n",
    "    n = D*12\n",
    "    \n",
    "    if AIR ==0:\n",
    "        RLB=P*(1-G/n)\n",
    "    else:\n",
    "        \n",
    "        S=(AIR/100)/12\n",
    "        RLB = P*((1+S)**n-(1+S)**G)/((1+S)**n-1)\n",
    "    \n",
    "    return RLB"
   ]
  },
  {
   "cell_type": "code",
   "execution_count": 6,
   "id": "ade49dda",
   "metadata": {},
   "outputs": [
    {
     "name": "stdout",
     "output_type": "stream",
     "text": [
      "enter principal: 2000\n",
      "enter annual interest rate: 5\n",
      "enter duraion in years: 5\n",
      "enter the number of payments: 12\n"
     ]
    },
    {
     "data": {
      "text/plain": [
       "1638.8894940368032"
      ]
     },
     "execution_count": 6,
     "metadata": {},
     "output_type": "execute_result"
    }
   ],
   "source": [
    "P = float(input('enter principal: '))\n",
    "AIR = float(input('enter annual interest rate: '))\n",
    "D = int(input('enter duraion in years: '))\n",
    "number_of_payments = int(input('enter the number of payments: '))\n",
    "\n",
    "RemainingLoanBalance(P,AIR,D,number_of_payments)"
   ]
  },
  {
   "cell_type": "markdown",
   "id": "57ddc1fe",
   "metadata": {},
   "source": [
    "4) Write a program for loan calculations.\n",
    "Your program should ask the user for three pieces of information\n",
    "(with three seperate input() functions:)\n",
    "\n",
    "+ The total amount of loan. Assume that the user enters a floating point number.\n",
    "+ Annual interest rate. Assume that the user enters a floating point number.\n",
    "(Notice that 4.5 means that the interest rate is 4.5 percent per year.)\n",
    "+ Total duration of loan in years. This is the number of years to pay the loan back. Assume that the user enters a positive integer.\n",
    "Also remember that the loan is paid back with monthly payments.\n",
    "\n",
    "Your Program should use the two functions that you implemented in\n",
    "Q2 and Q3 of this assignment and display the following\n",
    "information about the loan.\n",
    "\n",
    "In the first first line show the amount of loan and interest rate.\n",
    "In the second line show duration of the loan and monthly payment.\n",
    "In each of the following lines show the Loan balance and\n",
    "total amount paid for each year.\n",
    "\n",
    "    \n",
    "For Example if someone enters these numberes:<br>\n",
    "Enter loan amount: 2000<br>\n",
    "Enter annual interest rate (percent): 5<br>\n",
    "Enter loan duration in years: 12<br>\n",
    "\n",
    "The output would be:<br> \n",
    "    \n",
    "LOAN AMOUNT: 2000 INTEREST RATE (PERCENT): 5<br>\n",
    "DURATION (YEARS): 12 MONTHLY PAYMENT: 18<br>\n",
    "YEAR: 1 BALANCE: 1875 TOTAL PAYMENT 221<br>\n",
    "YEAR: 2 BALANCE: 1743 TOTAL PAYMENT 443<br>\n",
    "YEAR: 3 BALANCE: 1606 TOTAL PAYMENT 665<br>\n",
    "YEAR: 4 BALANCE: 1461 TOTAL PAYMENT 887<br>\n",
    "YEAR: 5 BALANCE: 1308 TOTAL PAYMENT 1109<br>\n",
    "YEAR: 6 BALANCE: 1148 TOTAL PAYMENT 1331<br>\n",
    "YEAR: 7 BALANCE: 980 TOTAL PAYMENT 1553<br>\n",
    "YEAR: 8 BALANCE: 803 TOTAL PAYMENT 1775<br>\n",
    "YEAR: 9 BALANCE: 617 TOTAL PAYMENT 1997<br>\n",
    "YEAR: 10 BALANCE: 421 TOTAL PAYMENT 2219<br>\n",
    "YEAR: 11 BALANCE: 216 TOTAL PAYMENT 2441<br>\n",
    "YEAR: 12 BALANCE: 0 TOTAL PAYMENT 2663  <br>"
   ]
  },
  {
   "cell_type": "code",
   "execution_count": 7,
   "id": "d72f8094",
   "metadata": {},
   "outputs": [],
   "source": [
    "def loan(LA,IR,D):\n",
    "\n",
    "    B=D*12\n",
    "    \n",
    "    \n",
    "    print('LOAN AMOUNT: ',LA,',','INTEREST RATE (PERCENT): ',IR)\n",
    "    print('DURATION (YEARS): ',D,',',  'MONTHLY PAYMENT: ',B)\n",
    "   \n",
    "    \n",
    "   \n",
    "    m =12\n",
    "    for i in range(1,13):\n",
    "        \n",
    "        Total_payment_year = Monthly_Payment(LA,IR,D) * m\n",
    "        Balance = RemainingLoanBalance(LA,IR,D,m)\n",
    "        m = m + 12\n",
    "        print('YEAR: ',i,'BALANCE: ', int(Balance),'TOTAL PAYMENT: ',int(Total_payment_year))"
   ]
  },
  {
   "cell_type": "code",
   "execution_count": 9,
   "id": "983662ee",
   "metadata": {},
   "outputs": [
    {
     "name": "stdout",
     "output_type": "stream",
     "text": [
      "enter loan amount: 2000\n",
      "enter annual interest rate (percent): 5\n",
      "enter duraion in years: 12\n",
      "LOAN AMOUNT:  2000.0 , INTEREST RATE (PERCENT):  5.0\n",
      "DURATION (YEARS):  12 , MONTHLY PAYMENT:  144\n",
      "YEAR:  1 BALANCE:  1875 TOTAL PAYMENT:  221\n",
      "YEAR:  2 BALANCE:  1743 TOTAL PAYMENT:  443\n",
      "YEAR:  3 BALANCE:  1606 TOTAL PAYMENT:  665\n",
      "YEAR:  4 BALANCE:  1461 TOTAL PAYMENT:  887\n",
      "YEAR:  5 BALANCE:  1308 TOTAL PAYMENT:  1109\n",
      "YEAR:  6 BALANCE:  1148 TOTAL PAYMENT:  1331\n",
      "YEAR:  7 BALANCE:  980 TOTAL PAYMENT:  1553\n",
      "YEAR:  8 BALANCE:  803 TOTAL PAYMENT:  1775\n",
      "YEAR:  9 BALANCE:  617 TOTAL PAYMENT:  1997\n",
      "YEAR:  10 BALANCE:  421 TOTAL PAYMENT:  2219\n",
      "YEAR:  11 BALANCE:  216 TOTAL PAYMENT:  2441\n",
      "YEAR:  12 BALANCE:  0 TOTAL PAYMENT:  2663\n"
     ]
    }
   ],
   "source": [
    "LA = float(input('enter loan amount: '))\n",
    "IR = float(input('enter annual interest rate (percent): '))\n",
    "D = int(input('enter duraion in years: '))\n",
    "\n",
    "loan(LA,IR,D)"
   ]
  },
  {
   "cell_type": "markdown",
   "id": "ffee11c5",
   "metadata": {},
   "source": [
    "5) Write a function that receives a list of integers as a parameter. Your function must return the sum of the odd numbers in this list. If there are no odd numbers in this list, your function must return 0 (zero number) as a sum."
   ]
  },
  {
   "cell_type": "code",
   "execution_count": 10,
   "id": "e3fd72c7",
   "metadata": {},
   "outputs": [],
   "source": [
    "def sum_odd(List):\n",
    "    Sum1 = 0\n",
    "    \n",
    "    for i in range(len(List)):\n",
    "        if List[i]%2 != 0:\n",
    "            Sum1 = List[i] + Sum1\n",
    "    print(Sum1) "
   ]
  },
  {
   "cell_type": "code",
   "execution_count": 11,
   "id": "56c8ee4d",
   "metadata": {},
   "outputs": [
    {
     "name": "stdout",
     "output_type": "stream",
     "text": [
      "16\n"
     ]
    }
   ],
   "source": [
    "AA = [1,2,3,4,5,6,7]\n",
    "\n",
    "sum_odd(AA)"
   ]
  },
  {
   "cell_type": "markdown",
   "id": "f9b17da3",
   "metadata": {},
   "source": [
    "6) Write a function that takes a number and returns True if the number is a perfect number; otherwise returns False. a perfect number is a positive integer that is equal to the sum of its positive divisors, excluding the number itself. For instance, 6 has divisors 1, 2 and 3 (excluding itself), and 1 + 2 + 3 = 6, so 6 is a perfect number."
   ]
  },
  {
   "cell_type": "code",
   "execution_count": 12,
   "id": "f0b99e15",
   "metadata": {},
   "outputs": [],
   "source": [
    "def perfect(n):\n",
    "    Sum1 = 0\n",
    "    \n",
    "    \n",
    "    for i in range(1,n):\n",
    "        if n%i == 0:\n",
    "            Sum1 = i+Sum1\n",
    "    if Sum1 == n:\n",
    "        print('The Entered number is a perfect number')\n",
    "    else:\n",
    "        print('The Entered number is not a perfect number')"
   ]
  },
  {
   "cell_type": "code",
   "execution_count": 13,
   "id": "fef0079f",
   "metadata": {},
   "outputs": [
    {
     "name": "stdout",
     "output_type": "stream",
     "text": [
      "The Entered number is a perfect number\n"
     ]
    }
   ],
   "source": [
    "perfect(496)"
   ]
  },
  {
   "cell_type": "markdown",
   "id": "42804590",
   "metadata": {},
   "source": [
    "7) Write a function that takes two number and returns their least common multiple.<br>\n",
    "For Example lcm(4,6) is 12"
   ]
  },
  {
   "cell_type": "code",
   "execution_count": 66,
   "id": "f876202a",
   "metadata": {},
   "outputs": [],
   "source": [
    "def lcm(x1,x2):\n",
    "    i=1\n",
    "    new_list1=[]\n",
    "    new_list2=[]\n",
    "\n",
    "    F = False\n",
    "    while(F is False):\n",
    "        \n",
    "        new_list1.append(x1*i)\n",
    "        new_list2.append(x2*i)\n",
    "        \n",
    "        for c1 in new_list1:\n",
    "            for c2 in new_list2:\n",
    "                if c1==c2:\n",
    "                    F=True\n",
    "        i = i+1\n",
    "    print(c1)"
   ]
  },
  {
   "cell_type": "code",
   "execution_count": 67,
   "id": "fb2c3363",
   "metadata": {},
   "outputs": [
    {
     "name": "stdout",
     "output_type": "stream",
     "text": [
      "12\n"
     ]
    }
   ],
   "source": [
    "lcm(4,6)"
   ]
  },
  {
   "cell_type": "code",
   "execution_count": 68,
   "id": "1aaeea2d",
   "metadata": {},
   "outputs": [
    {
     "name": "stdout",
     "output_type": "stream",
     "text": [
      "20\n"
     ]
    }
   ],
   "source": [
    "lcm(4,10)"
   ]
  },
  {
   "cell_type": "markdown",
   "id": "2ac16aaf",
   "metadata": {},
   "source": [
    "8) Write a function that receives two positive integers a and b (a is less than b) and returns a list of odd numbers between a and b (including a and b if applicable) in descending order."
   ]
  },
  {
   "cell_type": "code",
   "execution_count": 14,
   "id": "898501df",
   "metadata": {},
   "outputs": [],
   "source": [
    "def Odd_list(x1,x2):\n",
    "    \n",
    "    List = []\n",
    "   \n",
    "    for i in range(x2,x1-1,-1):\n",
    "        if i%2 != 0:\n",
    "            List.append(i)\n",
    "    print(List)  "
   ]
  },
  {
   "cell_type": "code",
   "execution_count": 15,
   "id": "9bde4ac5",
   "metadata": {},
   "outputs": [
    {
     "name": "stdout",
     "output_type": "stream",
     "text": [
      "[1639, 1637, 1635, 1633, 1631, 1629, 1627, 1625, 1623, 1621, 1619, 1617, 1615, 1613, 1611, 1609, 1607, 1605, 1603, 1601]\n"
     ]
    }
   ],
   "source": [
    "Odd_list(1600,1640)"
   ]
  },
  {
   "cell_type": "markdown",
   "id": "62f948f0",
   "metadata": {},
   "source": [
    "#### OPTIONAL\n",
    "9) Write a function that receives a list of integers and returns a new list that is the sorted (ascending) version of the original list. You should not use built-in sort () or sorted () functions. Note that the original list should not be changed."
   ]
  },
  {
   "cell_type": "code",
   "execution_count": 43,
   "id": "0639d1d7",
   "metadata": {},
   "outputs": [],
   "source": [
    "def sorting(List):\n",
    "    new_list=[]\n",
    "    for i in range(len(List)):\n",
    "        for j in range(i,len(List)):\n",
    "            if List[j]>List[i]:\n",
    "                temp=List[i]\n",
    "                List[i]=List[j]\n",
    "                List[j] = temp\n",
    "        new_list.append(List[i])\n",
    "        i = i+1\n",
    "    return new_list       "
   ]
  },
  {
   "cell_type": "code",
   "execution_count": 47,
   "id": "ffb3ca16",
   "metadata": {},
   "outputs": [
    {
     "data": {
      "text/plain": [
       "[100, 60, 50, 20, 10, 1, -18]"
      ]
     },
     "execution_count": 47,
     "metadata": {},
     "output_type": "execute_result"
    }
   ],
   "source": [
    "A=[50,60,20,10,-18,100,1]\n",
    "sorting(A)"
   ]
  },
  {
   "cell_type": "markdown",
   "id": "ae0f613f",
   "metadata": {},
   "source": [
    "10) Write a function that receives two input lists and returns a new list that contains only unique elements from both lists."
   ]
  },
  {
   "cell_type": "code",
   "execution_count": 16,
   "id": "6d318350",
   "metadata": {},
   "outputs": [],
   "source": [
    "def unique_elements(List1,List2):\n",
    "\n",
    "    new_list = []\n",
    "    \n",
    "    for i in List1:\n",
    "        if i not in new_list:\n",
    "            new_list.append(i)\n",
    "            \n",
    "    for i in List1:\n",
    "        if i not in new_list:\n",
    "            new_list.append(i)\n",
    "            \n",
    "    print(new_list) "
   ]
  },
  {
   "cell_type": "code",
   "execution_count": 18,
   "id": "62c921b6",
   "metadata": {},
   "outputs": [
    {
     "name": "stdout",
     "output_type": "stream",
     "text": [
      "[1, 5, 6, 'Hiva', 'Jafar', 'Nazanin', 88]\n"
     ]
    }
   ],
   "source": [
    "List_1=[1,5,6,\"Hiva\",\"Jafar\",\"Nazanin\",88,5]\n",
    "List_2=[3,4,5,97,\"Hiva\",\"Maryam\",\"Lale\",88]\n",
    "\n",
    "unique_elements(List_1,List_2)"
   ]
  },
  {
   "cell_type": "markdown",
   "id": "cc110823",
   "metadata": {},
   "source": [
    "11) Write a function called that receives a positive integer n and returns a list of (in ascending order) all prime numbers between 2 and n (including 2 but not n)"
   ]
  },
  {
   "cell_type": "code",
   "execution_count": 19,
   "id": "e494ae03",
   "metadata": {},
   "outputs": [],
   "source": [
    "def A_list(y):\n",
    "    \n",
    "    List=[]\n",
    "    sum1=0\n",
    "    \n",
    "    for i in range(2,y):\n",
    "        for j in range(1,i):\n",
    "            if i%j == 0:\n",
    "                sum1 = sum1+1\n",
    "        if sum1 == 1:\n",
    "            List.append(i)\n",
    "        sum1 = 0\n",
    "    \n",
    "    print(List)"
   ]
  },
  {
   "cell_type": "code",
   "execution_count": 20,
   "id": "9fd450d6",
   "metadata": {},
   "outputs": [
    {
     "name": "stdout",
     "output_type": "stream",
     "text": [
      "[2, 3, 5, 7, 11, 13, 17, 19, 23, 29, 31, 37, 41, 43, 47, 53, 59, 61]\n"
     ]
    }
   ],
   "source": [
    "A_list(67)"
   ]
  }
 ],
 "metadata": {
  "kernelspec": {
   "display_name": "GK7",
   "language": "python",
   "name": "gk7"
  },
  "language_info": {
   "codemirror_mode": {
    "name": "ipython",
    "version": 3
   },
   "file_extension": ".py",
   "mimetype": "text/x-python",
   "name": "python",
   "nbconvert_exporter": "python",
   "pygments_lexer": "ipython3",
   "version": "3.6.13"
  }
 },
 "nbformat": 4,
 "nbformat_minor": 5
}
